{
 "cells": [
  {
   "cell_type": "code",
   "execution_count": 1,
   "metadata": {},
   "outputs": [],
   "source": [
    "import pickle\n",
    "import json\n",
    "import os\n",
    "import math\n",
    "from gensim.models import Word2Vec"
   ]
  },
  {
   "cell_type": "code",
   "execution_count": 3,
   "metadata": {},
   "outputs": [
    {
     "data": {
      "text/plain": [
       "0"
      ]
     },
     "execution_count": 3,
     "metadata": {},
     "output_type": "execute_result"
    }
   ],
   "source": [
    "data = []\n",
    "for i in range(100):\n",
    "    with open('processed/sentences/sen'+str(i), 'rb') as f:\n",
    "        data += pickle.load(f)\n",
    "len(data)"
   ]
  },
  {
   "cell_type": "code",
   "execution_count": null,
   "metadata": {},
   "outputs": [],
   "source": [
    "with open('processed/entities.pkl', 'rb') as f:\n",
    "    entities = pickle.load(f)"
   ]
  },
  {
   "cell_type": "markdown",
   "metadata": {},
   "source": [
    "## 关系标注"
   ]
  },
  {
   "cell_type": "code",
   "execution_count": null,
   "metadata": {
    "collapsed": true
   },
   "outputs": [],
   "source": [
    "# 根据规则 替换所有关系\n",
    "\n",
    "tgs = {\n",
    "    \"per\": [\"人物\", \"歌手\", \"演员\", \"作家\"],\n",
    "    \"org\": [\"机构\", \"企业\", \"公司\", \"学校\", \"部门\", \"大学\"],\n",
    "    \"pl\": [\"地点\", \"地理\", \"城市\", \"国家\", \"地区\"]\n",
    "}\n",
    "\n",
    "config = {\n",
    "        # person  9\n",
    "    \"per2per_family_members\" : [\"父亲\",\"母亲\",\"丈夫\",\"妻子\",\"儿子\",\"女儿\",\"哥哥\",\"妹妹\",\"姐姐\",\"弟弟\",\"孙子\",\n",
    "                        \"孙女\",\"爷爷\",\"奶奶\",\"外婆\", \"外公\",\"家人\",\"家庭成员\" ,\"夫人\",\"对象\",\"夫君\"],\n",
    "    \"per2per_social_members\" : [\"朋友\", \"好友\", \"同学\", \"合作\", \"搭档\", \"经纪人\", \"师从\"],\n",
    "\n",
    "    \"per2pl_birth_place\" : [\"出生地\", \"出生于\", \"来自\", \"歌手出生地\", \"作者出生地\", \"出生在\", \"作者出生地\", \"出生\"],\n",
    "    \"per2pl_live_place\" : [\"居住地\", \"主要居住地\", \"居住\", \"现居住\", \"目前居住地\", \"现居住于\", \"居住地点\", \"居住于\"],\n",
    "    \n",
    "    \"per2pl_country\": [\"国籍\", \"国家\"],\n",
    "    \"per2org_graduate_from\" : [\"毕业院校\", \"毕业于\", \"毕业学院\", \"本科毕业院校\", \"最后毕业院校\", \"毕业高中\", \"毕业地点\", \"本科毕业学校\", \"知名校友\"],\n",
    "    \"per2org_belong_to\" : [\"隶属单位\", \"经纪公司\", \"隶属关系\", \"行政隶属\", \"隶属学校\", \"隶属大学\", \"隶属地区\", \"所属公司\", \"签约公司\", \"任职公司\", \"工作单位\", \"所属\"],\n",
    "\n",
    "    \"per2oth_profession\" : ['职业'],\n",
    "    \"per2oth_nation\" : ['民族'],\n",
    "\n",
    "    # orgnazition  9\n",
    "    \"org2per_owner\" : [\"拥有\", \"拥有者\"],\n",
    "    \"org2per_founder\" : [\"创始人\", \"创始\", \"主要创始人\", \"集团创始人\"],\n",
    "    \"org2per_school_leader\" : [\"校长\", \"现任校长\", \"学校校长\", \"总校长\"],\n",
    "    \"org2per_leader\" : [\"领导\", \"现任领导\", \"领导单位\", \"主要领导\", \"领导人\", \"主要领导人\"],\n",
    "\n",
    "    \"org2org_surroundings\" : [\"周围景观\", \"周边景点\"],\n",
    "\n",
    "\n",
    "    \"org2pl_location\" : [\"所属地区\",\"国家\", \"地区\", \"地理位置\", \"位于\", \"区域\", \"地点\", \"总部地点\", \"所在地\", \"所在区域\", \"位于城市\", \"总部位于\", \"酒店位于\", \"学校位于\", \"最早位于\", \"地址\", \"所在城市\", \"城市\", \"主要城市\", \"坐落于\"],\n",
    "\n",
    "\n",
    "    # place  7\n",
    "    \"pl2per_main_character\" : [\"相关人物\", \"知名人物\", \"历史人物\"],\n",
    "\n",
    "    \"pl2pl_location\" : [\"所属地区\",\"所属国\", \"所属洲\", \"所属州\", \"所属国家\", \"最大城市\", \"地区\", \"地理位置\", \"位于\", \"区域\", \"地点\", \"总部地点\", \"所在地\", \"所在区域\", \"位于城市\", \"总部位于\", \"酒店位于\", \"学校位于\", \"最早位于\", \"地址\", \"所在城市\", \"城市\", \"主要城市\", \"坐落于\"],\n",
    "    \"pl2pl_adjacement\" : [\"毗邻\", \"东邻\", \"邻近行政区\", \"相邻\", \"紧邻\", \"邻近\", \"北邻\", \"南邻\", \"邻国\"],\n",
    "    \"pl2pl_contains\" : [\"包含\", \"包含国家\", \"包含人物\", \"下辖地区\", \"下属\"],\n",
    "    \"pl2pl_captial\" : [\"首都\"],\n",
    "\n",
    "    \"pl2org_sights\" : [\"著名景点\", \"主要景点\", \"旅游景点\", \"特色景点\"],\n",
    "    \"pl2oth_climate\" : [\"气候类型\", \"气候条件\", \"气候\", \"气候带\"],\n",
    "}\n",
    "\n",
    "\n",
    "name = {\n",
    "    \"per2per_family_members\": \"/人物/人物/家庭成员\",\n",
    "    \"per2per_social_members\": \"/人物/人物/社交关系\",\n",
    "\n",
    "    \"per2pl_birth_place\": \"/人物/地点/出生地\",\n",
    "    \"per2pl_live_place\": \"/人物/地点/居住地\",\n",
    "    \"per2pl_country\" : \"/人物/地点/国籍\",\n",
    "    \"per2org_graduate_from\": \"/人物/组织/毕业于\",\n",
    "    \"per2org_belong_to\": \"/人物/组织/属于\",\n",
    "\n",
    "    \"per2oth_profession\": \"/人物/其它/职业\",\n",
    "    \"per2oth_nation\": \"/人物/其它/民族\",\n",
    "\n",
    "    \"org2per_owner\": \"/组织/人物/拥有者\",\n",
    "    \"org2per_founder\": \"/组织/人物/创始人\",\n",
    "    \"org2per_school_leader\": \"/组织/人物/校长\",\n",
    "    \"org2per_leader\": \"/组织/人物/领导人\",\n",
    "\n",
    "    \"org2org_surroundings\": \"/组织/组织/周边\",\n",
    "\n",
    "\n",
    "    \"org2pl_location\": \"/组织/地点/位于\",\n",
    "\n",
    "\n",
    "    \"pl2per_main_character\": \"/地点/人物/相关人物\",\n",
    "\n",
    "    \"pl2pl_location\": \"/地点/地点/位于\",\n",
    "    \"pl2pl_adjacement\": \"/地点/地点/毗邻\",\n",
    "    \"pl2pl_contains\": \"/地点/地点/包含\",\n",
    "    \"pl2pl_captial\": \"/地点/地点/首都\",\n",
    "\n",
    "    \"pl2org_sights\": \"/地点/组织/景点\",\n",
    "    \"pl2oth_climate\": \"/地点/其它/气候\"\n",
    "}"
   ]
  },
  {
   "cell_type": "code",
   "execution_count": null,
   "metadata": {},
   "outputs": [],
   "source": [
    "def check(string, tgs):\n",
    "    for t in tgs:\n",
    "        if t in string:\n",
    "            return True\n",
    "    return False"
   ]
  },
  {
   "cell_type": "code",
   "execution_count": null,
   "metadata": {
    "collapsed": true
   },
   "outputs": [],
   "source": [
    "# 标注\n",
    "processed_data = []\n",
    "for can in data:\n",
    "    # can  [sentence, head, tail, segment]\n",
    "    sentence, head, tail, segment = can\n",
    "    if tail not in entities[can[1]].values():\n",
    "        can.append('NA')\n",
    "        processed_data.append(can)\n",
    "        continue\n",
    "    rel = ''\n",
    "    for key, value in entities[can[1]].items():\n",
    "        if value==tail:\n",
    "            rel = key\n",
    "    \n",
    "    for key, value in config.items():\n",
    "        if rel in value:\n",
    "            tp = key.split('_')[0].split('2')\n",
    "            if check(entities[can[1]].get('BaiduTAG', \"\"), tgs[tp[0]]):\n",
    "                if tp[1]=='oth':\n",
    "                    can.append(name[key])\n",
    "                    processed_data.append(can)\n",
    "                elif check(entities[can[2]].get('BaiduTAG', \"\"), tgs[tp[1]]):\n",
    "                    can.append(name[key])\n",
    "                    processed_data.append(can)\n",
    "            break\n",
    "len(processed_data)"
   ]
  },
  {
   "cell_type": "code",
   "execution_count": null,
   "metadata": {
    "collapsed": true
   },
   "outputs": [],
   "source": [
    "e2id = {}\n",
    "count = 0\n",
    "e_set = set()\n",
    "for i in processed_data:\n",
    "    e_set.add(i[1])\n",
    "    e_set.add(i[2])\n",
    "for e in e_set:\n",
    "    e2id[e] = count\n",
    "    count += 1"
   ]
  },
  {
   "cell_type": "code",
   "execution_count": null,
   "metadata": {
    "collapsed": true
   },
   "outputs": [],
   "source": [
    "total_data = []\n",
    "for d in processed_data:\n",
    "    total_data.append({\n",
    "        'head':{\n",
    "            'word': d[1],\n",
    "            'id': str(e2id[d[1]])\n",
    "        },\n",
    "        'relation': d[-1],\n",
    "        'tail': {\n",
    "            'word': d[2],\n",
    "            'id': str(e2id[d[2]])\n",
    "        },\n",
    "        'sentence': ' '.join(d[-2]),\n",
    "        'ori_sen': d[0],\n",
    "        'sen_seg': d[-2]\n",
    "    })"
   ]
  },
  {
   "cell_type": "code",
   "execution_count": null,
   "metadata": {
    "collapsed": true
   },
   "outputs": [],
   "source": [
    "rl = {}\n",
    "for i in total_data:\n",
    "    rl[i['relation']] = rl.get(i['relation'], 0) + 1\n",
    "\n",
    "trl = {}\n",
    "record = {}\n",
    "for k,v in rl.items():\n",
    "    trl[k] = int(max(math.floor(v*0.25), 1))\n",
    "    record[k] = 0"
   ]
  },
  {
   "cell_type": "code",
   "execution_count": null,
   "metadata": {
    "collapsed": true
   },
   "outputs": [],
   "source": [
    "train = []\n",
    "test = []\n",
    "for i in total_data:\n",
    "    if record[i['relation']]<=trl[i['relation']]:\n",
    "        test.append(i)\n",
    "        record[i['relation']] += 1\n",
    "    else:\n",
    "        train.append(i)"
   ]
  },
  {
   "cell_type": "code",
   "execution_count": null,
   "metadata": {},
   "outputs": [],
   "source": [
    "if not os.path.isdir('../data'):\n",
    "    os.mkdir('../data')\n",
    "if not os.path.isdir('../data/chinese'):\n",
    "    os.mkdir('../data/chinese')"
   ]
  },
  {
   "cell_type": "code",
   "execution_count": null,
   "metadata": {
    "collapsed": true
   },
   "outputs": [],
   "source": [
    "with open('../data/chinese/train.json', 'w', encoding='utf8') as f:\n",
    "    json.dump(train, f)\n",
    "with open('../data/chinese/test.json', 'w', encoding='utf8') as f:\n",
    "    json.dump(test, f)"
   ]
  },
  {
   "cell_type": "code",
   "execution_count": null,
   "metadata": {
    "collapsed": true
   },
   "outputs": [],
   "source": [
    "count = 0\n",
    "r2id = {}\n",
    "for k in list(rl.keys()):\n",
    "    r2id[k] = count\n",
    "    count +=1\n",
    "with open('../data/chinese/rel2id.json', 'w', encoding='utf8') as f:\n",
    "    json.dump(r2id, f)"
   ]
  },
  {
   "cell_type": "markdown",
   "metadata": {},
   "source": [
    "## 训练词向量"
   ]
  },
  {
   "cell_type": "code",
   "execution_count": null,
   "metadata": {
    "collapsed": true
   },
   "outputs": [],
   "source": [
    "senlist = []\n",
    "for d in data:\n",
    "    senlist.append(d[-1])"
   ]
  },
  {
   "cell_type": "code",
   "execution_count": null,
   "metadata": {},
   "outputs": [],
   "source": [
    "model = Word2Vec(senlist, sg=5, min_count=1, size=50, workers=4)"
   ]
  },
  {
   "cell_type": "code",
   "execution_count": null,
   "metadata": {
    "collapsed": true
   },
   "outputs": [],
   "source": [
    "w2v = {}\n",
    "for i in model.wv.index2word:\n",
    "    w2v[i] = model[i]\n",
    "len(w2v)"
   ]
  },
  {
   "cell_type": "code",
   "execution_count": null,
   "metadata": {
    "collapsed": true
   },
   "outputs": [],
   "source": [
    "new_w2v = []\n",
    "for word, vec in w2v.items():\n",
    "    new_w2v.append({\n",
    "        'word': word,\n",
    "        'vec': [float(i) for i in vec]\n",
    "    })"
   ]
  },
  {
   "cell_type": "code",
   "execution_count": null,
   "metadata": {
    "collapsed": true
   },
   "outputs": [],
   "source": [
    "with open('../data/chinese/word_vec.json', 'w', encoding='utf8') as f:\n",
    "    json.dump(new_w2v, f)"
   ]
  }
 ],
 "metadata": {
  "kernelspec": {
   "display_name": "Python [default]",
   "language": "python",
   "name": "python3"
  },
  "language_info": {
   "codemirror_mode": {
    "name": "ipython",
    "version": 3
   },
   "file_extension": ".py",
   "mimetype": "text/x-python",
   "name": "python",
   "nbconvert_exporter": "python",
   "pygments_lexer": "ipython3",
   "version": "3.6.8"
  }
 },
 "nbformat": 4,
 "nbformat_minor": 2
}
