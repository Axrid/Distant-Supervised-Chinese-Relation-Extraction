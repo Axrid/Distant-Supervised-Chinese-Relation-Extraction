{
 "cells": [
  {
   "cell_type": "code",
   "execution_count": null,
   "metadata": {},
   "outputs": [],
   "source": [
    "import pickle\n",
    "import json\n",
    "import re\n",
    "import os\n",
    "import math\n",
    "from tqdm import tqdm"
   ]
  },
  {
   "cell_type": "markdown",
   "metadata": {},
   "source": [
    "1.读取初始数据"
   ]
  },
  {
   "cell_type": "code",
   "execution_count": null,
   "metadata": {},
   "outputs": [],
   "source": [
    "data = []\n",
    "with open('baike_triples.txt', 'r', encoding='utf8') as f:\n",
    "    for line in tqdm(f):\n",
    "        data.append(line.strip().split('\\t'))\n",
    "print(len(data), data[0])"
   ]
  },
  {
   "cell_type": "markdown",
   "metadata": {},
   "source": [
    "2.保留元素全为中文的三元组"
   ]
  },
  {
   "cell_type": "code",
   "execution_count": null,
   "metadata": {},
   "outputs": [],
   "source": [
    "all_chinese = re.compile('^[\\u4e00-\\u9fa5]*$')\n",
    "new_data = []\n",
    "for triple in tqdm(data):\n",
    "    if bool(re.search(all_chinese, triple[0])) and bool(re.search(all_chinese, triple[1])) and bool(re.search(all_chinese, triple[2])):\n",
    "        new_data.append(triple)\n",
    "len(new_data)"
   ]
  },
  {
   "cell_type": "markdown",
   "metadata": {},
   "source": [
    "3.实体字典"
   ]
  },
  {
   "cell_type": "code",
   "execution_count": null,
   "metadata": {
    "scrolled": true
   },
   "outputs": [],
   "source": [
    "entities = {}\n",
    "for triple in tqdm(new_data):\n",
    "    entities[triple[0]] = entities.get(triple[0], {})\n",
    "    entities[triple[0]][triple[1]] = triple[2]"
   ]
  },
  {
   "cell_type": "code",
   "execution_count": null,
   "metadata": {},
   "outputs": [],
   "source": [
    "if not os.path.isdir('processed'):\n",
    "    os.mkdir('processed')\n",
    "with open('processed/entities.pkl', 'wb') as f:\n",
    "    pickle.dump(entities, f)"
   ]
  },
  {
   "cell_type": "code",
   "execution_count": null,
   "metadata": {},
   "outputs": [],
   "source": [
    "e_set = set()\n",
    "with open('processed/entity.txt', 'w', encoding='utf8') as f:\n",
    "    for e in tqdm(entities.keys()):\n",
    "        if e not in e_set:\n",
    "            e_set.add(e)\n",
    "            f.write(e+'\\n')\n",
    "len(e_set)"
   ]
  },
  {
   "cell_type": "markdown",
   "metadata": {},
   "source": [
    "4.获取句子集合"
   ]
  },
  {
   "cell_type": "code",
   "execution_count": null,
   "metadata": {},
   "outputs": [],
   "source": [
    "def process_sentence(sent):\n",
    "    sent = re.sub(r' +', ' ', sent)\n",
    "    sent = re.sub(r'[^\\u4e00-\\u9fa5,\\?\\!，。？：:！、；\\(\\)（） ]', '', sent)\n",
    "    sent = re.split(r'[\\?\\!。？！]', sent)\n",
    "    return sent"
   ]
  },
  {
   "cell_type": "code",
   "execution_count": null,
   "metadata": {},
   "outputs": [],
   "source": [
    "sents = []\n",
    "for triple in tqdm(data):\n",
    "    if triple[1]=='BaiduCARD':\n",
    "        sent = process_sentence(triple[2])\n",
    "        if sent != \"\":\n",
    "            sents.append(sent)\n",
    "print(len(sents), sents[0])"
   ]
  },
  {
   "cell_type": "markdown",
   "metadata": {},
   "source": [
    "5.句子存为100个文件"
   ]
  },
  {
   "cell_type": "code",
   "execution_count": null,
   "metadata": {},
   "outputs": [],
   "source": [
    "if not os.path.isdir('processed/sentences'):\n",
    "    os.mkdir('processed/sentences')\n",
    "\n",
    "    begin = 0\n",
    "count = math.ceil(len(sents)*1.0/100)\n",
    "end = min(begin+count, len(sents))\n",
    "for i in tqdm(range(100)):\n",
    "    with open('processed/sentences/sen'+str(i), 'wb') as f:\n",
    "        pickle.dump(sents[begin:end], f)\n",
    "    begin = end\n",
    "    end = min(begin+count, len(sents))"
   ]
  },
  {
   "cell_type": "code",
   "execution_count": null,
   "metadata": {},
   "outputs": [],
   "source": []
  }
 ],
 "metadata": {
  "kernelspec": {
   "display_name": "Python [default]",
   "language": "python",
   "name": "python3"
  },
  "language_info": {
   "codemirror_mode": {
    "name": "ipython",
    "version": 3
   },
   "file_extension": ".py",
   "mimetype": "text/x-python",
   "name": "python",
   "nbconvert_exporter": "python",
   "pygments_lexer": "ipython3",
   "version": "3.6.8"
  }
 },
 "nbformat": 4,
 "nbformat_minor": 2
}
